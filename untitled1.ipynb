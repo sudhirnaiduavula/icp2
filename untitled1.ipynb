{
  "nbformat": 4,
  "nbformat_minor": 0,
  "metadata": {
    "colab": {
      "provenance": [],
      "toc_visible": true
    },
    "kernelspec": {
      "name": "python3",
      "display_name": "Python 3"
    },
    "language_info": {
      "name": "python"
    }
  },
  "cells": [
    {
      "cell_type": "code",
      "source": [
        "#Defining parent class Employee\n",
        "class Employee():\n",
        "\n",
        "  #Class variables to keep track of instances\n",
        "  employee_count = 0\n",
        "  employee_salary = 0\n",
        "\n",
        "  #Constructor used to initialize values for the objects\n",
        "  def __init__(self, name, family, department, salary = 0):\n",
        "    self.name = name\n",
        "    self.family = family\n",
        "    self.salary = salary\n",
        "    self.department = department\n",
        "\n",
        "    Employee.employee_count += 1\n",
        "    Employee.employee_salary += self.salary\n",
        "\n",
        "  #Method that gives average salary for the employees\n",
        "  def average_salary(self):\n",
        "    return \"The Average Salary of all Employees is: $\" + str(Employee.employee_salary / Employee.employee_count)\n",
        "\n",
        "\n",
        "#Defining child another class and inheriting the properties of parent class\n",
        "class Full_Time_Employee(Employee):\n",
        "\n",
        "  #class variables that keeps track of instances\n",
        "  full_employee_salary = 0\n",
        "  full_employee_count = 0\n",
        "\n",
        "  #Constructor used to initialize values for the object variables inherited from the parent class\n",
        "  def __init__(self, name, family, department,  salary):\n",
        "    super().__init__(name, family, department)\n",
        "    self.salary = salary\n",
        "\n",
        "    Full_Time_Employee.full_employee_count += 1\n",
        "    Full_Time_Employee.full_employee_salary += self.salary\n",
        "\n",
        "  #Method that overries the parent class method to give average salary for the full time employees\n",
        "  def average_salary(self):\n",
        "      return \"The Average Salary of all Full time Employees is: $\" + str(Full_Time_Employee.full_employee_salary / Full_Time_Employee.full_employee_count)\n",
        "\n",
        "\n",
        "\n",
        "#Defining objects for the parent class\n",
        "employee_1 = Employee(\"sudhir\", \"ramesh\", \"analysis\", 130000)\n",
        "employee_2 = Employee(\"karthik\", \"Aravind\", \"marketing\", 160000)\n",
        "employee_3 = Employee(\"Priyanka\", \"Rahul\", \"devops\", 120000)\n",
        "employee_4 = Employee(\"Vishal\", \"Javed\", \"cloud aws\", 100000)\n",
        "\n",
        "#Defining objects for the child class\n",
        "full_employee_1 = Full_Time_Employee(\"sudhir\", \"ramesh\", \"engineer in DS\", 200000)\n",
        "\n",
        "\n",
        "#Printing total no of employess and full time employees defined\n",
        "print(\"Total no. of employees in the company are: \" + str(Employee.employee_count))\n",
        "print(\"Total no. of full time employees in the company are: \" + str(Full_Time_Employee.full_employee_count))\n",
        "\n",
        "print()\n",
        "\n",
        "#Printing average salaries of employess and full time employees\n",
        "print(employee_1.average_salary())\n",
        "print(full_employee_1.average_salary())"
      ],
      "metadata": {
        "colab": {
          "base_uri": "https://localhost:8080/"
        },
        "id": "LsQmSnvhKjrO",
        "outputId": "9869d669-a3d7-4284-fd32-461bbee01b9f"
      },
      "execution_count": null,
      "outputs": [
        {
          "output_type": "stream",
          "name": "stdout",
          "text": [
            "Total no. of employees in the company are: 5\n",
            "Total no. of full time employees in the company are: 1\n",
            "\n",
            "The Average Salary of all Employees is: $102000.0\n",
            "The Average Salary of all Full time Employees is: $200000.0\n"
          ]
        }
      ]
    },
    {
      "cell_type": "code",
      "source": [
        "#Importing Numpy module as np\n",
        "import numpy as np\n",
        "\n",
        "#Creating random vector of size 20 containing floating values in the range 1-20\n",
        "random_vec = np.arange(1, 21, dtype=float)\n",
        "print(random_vec)\n",
        "\n",
        "#Reshaping the size of the vector to an array\n",
        "random_vec = random_vec.reshape(4,5)\n",
        "print(random_vec)\n",
        "\n",
        "#Replacing maximum number in every row of the array with zero\n",
        "random_vec = np.where(np.isin(random_vec, random_vec.max(axis=1)), 0, random_vec)\n",
        "print(random_vec)"
      ],
      "metadata": {
        "colab": {
          "base_uri": "https://localhost:8080/"
        },
        "id": "qwMmXdkTLAu1",
        "outputId": "8e8ac543-0851-4718-f0d9-988aafd9131a"
      },
      "execution_count": null,
      "outputs": [
        {
          "output_type": "stream",
          "name": "stdout",
          "text": [
            "[ 1.  2.  3.  4.  5.  6.  7.  8.  9. 10. 11. 12. 13. 14. 15. 16. 17. 18.\n",
            " 19. 20.]\n",
            "[[ 1.  2.  3.  4.  5.]\n",
            " [ 6.  7.  8.  9. 10.]\n",
            " [11. 12. 13. 14. 15.]\n",
            " [16. 17. 18. 19. 20.]]\n",
            "[[ 1.  2.  3.  4.  0.]\n",
            " [ 6.  7.  8.  9.  0.]\n",
            " [11. 12. 13. 14.  0.]\n",
            " [16. 17. 18. 19.  0.]]\n"
          ]
        }
      ]
    }
  ]
}